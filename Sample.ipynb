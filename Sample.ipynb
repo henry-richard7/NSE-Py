{
 "cells": [
  {
   "cell_type": "code",
   "execution_count": 1,
   "metadata": {},
   "outputs": [],
   "source": [
    "from nse_api import NseAPI"
   ]
  },
  {
   "cell_type": "code",
   "execution_count": 2,
   "metadata": {},
   "outputs": [],
   "source": [
    "nse_obj = NseAPI()"
   ]
  },
  {
   "cell_type": "code",
   "execution_count": 3,
   "metadata": {},
   "outputs": [],
   "source": [
    "indices = nse_obj.get_indices()"
   ]
  },
  {
   "cell_type": "code",
   "execution_count": 4,
   "metadata": {},
   "outputs": [],
   "source": [
    "selected_index = indices[0]"
   ]
  },
  {
   "cell_type": "code",
   "execution_count": 5,
   "metadata": {},
   "outputs": [
    {
     "data": {
      "text/plain": [
       "{'symbol': 'RELIANCE',\n",
       " 'open': 2688.9,\n",
       " 'dayHigh': 2756,\n",
       " 'dayLow': 2675,\n",
       " 'lastPrice': 2735.25,\n",
       " 'previousClose': 2633.6,\n",
       " 'change': 101.65,\n",
       " 'pChange': 3.86,\n",
       " '52W_High': 2756,\n",
       " '52W_Low': 2180,\n",
       " 'totalTradedVolume': 15340262,\n",
       " 'totalTradedValue': 41871858739.479996,\n",
       " 'perChange365d': 10.13,\n",
       " 'perChange30d': 6.11,\n",
       " 'last_updated_at': '10-Jul-2023 16:00:00',\n",
       " 'company_name': 'Reliance Industries Limited'}"
      ]
     },
     "execution_count": 5,
     "metadata": {},
     "output_type": "execute_result"
    }
   ],
   "source": [
    "nse_obj.index_data(selected_index)[1]"
   ]
  },
  {
   "cell_type": "code",
   "execution_count": 6,
   "metadata": {},
   "outputs": [],
   "source": [
    "all_stocks = nse_obj.get_all_stocks(selected_index)"
   ]
  },
  {
   "cell_type": "code",
   "execution_count": 10,
   "metadata": {},
   "outputs": [],
   "source": [
    "selected_stock = all_stocks[0]['stock_symbol']"
   ]
  },
  {
   "cell_type": "code",
   "execution_count": 11,
   "metadata": {},
   "outputs": [
    {
     "data": {
      "text/plain": [
       "{'symbol': 'RELIANCE',\n",
       " 'company_name': 'Reliance Industries Limited',\n",
       " 'industry': 'REFINERIES',\n",
       " 'listingDate': '29-Nov-1995',\n",
       " 'open_price': 2688.9,\n",
       " 'last_price': 2735.25,\n",
       " 'previous_close': 2633.6,\n",
       " 'high_price': 2756,\n",
       " 'low_price': 2675,\n",
       " 'change': 101.65,\n",
       " 'pChange': 3.86,\n",
       " '52w_high_date': '10-Jul-2023',\n",
       " '52w_high': 2756,\n",
       " '52w_low_date': '20-Mar-2023',\n",
       " '52w_low': 2180,\n",
       " 'total_traded_volume': 206385,\n",
       " 'total_buy_quantity': 345640,\n",
       " 'total_sell_quantity': 84706,\n",
       " 'last_update_time': '10-Jul-2023 16:00:00'}"
      ]
     },
     "execution_count": 11,
     "metadata": {},
     "output_type": "execute_result"
    }
   ],
   "source": [
    "nse_obj.get_stock_data(selected_stock)"
   ]
  },
  {
   "cell_type": "code",
   "execution_count": null,
   "metadata": {},
   "outputs": [],
   "source": []
  }
 ],
 "metadata": {
  "kernelspec": {
   "display_name": "Python 3",
   "language": "python",
   "name": "python3"
  },
  "language_info": {
   "codemirror_mode": {
    "name": "ipython",
    "version": 3
   },
   "file_extension": ".py",
   "mimetype": "text/x-python",
   "name": "python",
   "nbconvert_exporter": "python",
   "pygments_lexer": "ipython3",
   "version": "3.11.4"
  },
  "orig_nbformat": 4
 },
 "nbformat": 4,
 "nbformat_minor": 2
}
